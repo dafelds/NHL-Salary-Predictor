{
 "cells": [
  {
   "cell_type": "code",
   "execution_count": 1,
   "id": "6b3b24f5-572b-43d0-8cd6-405562744a91",
   "metadata": {},
   "outputs": [],
   "source": [
    "import sys\n",
    "import os"
   ]
  },
  {
   "cell_type": "code",
   "execution_count": 2,
   "id": "81170f34-8807-4a8b-b9ff-35c9bb9550e8",
   "metadata": {},
   "outputs": [],
   "source": [
    "dirname = os.path.dirname('__file__')"
   ]
  },
  {
   "cell_type": "code",
   "execution_count": 3,
   "id": "ffe42918-5410-4b0a-9bf4-7e926af51798",
   "metadata": {},
   "outputs": [],
   "source": [
    "sys.path.append(os.path.join(dirname, './modules'))"
   ]
  },
  {
   "cell_type": "code",
   "execution_count": 29,
   "id": "1ab481f7-4c1e-479e-98d4-c680a5e41b55",
   "metadata": {},
   "outputs": [],
   "source": [
    "import pandas as pd\n",
    "import pickle\n",
    "import requests\n",
    "import re\n",
    "import time\n",
    "import data_processing_functions\n",
    "import sklearn.metrics\n",
    "import xgboost as xgb\n",
    "\n",
    "from bs4 import BeautifulSoup as bs\n",
    "from sklearn.model_selection import train_test_split, GridSearchCV\n",
    "from sklearn.svm import SVR\n",
    "from sklearn.ensemble import RandomForestRegressor\n",
    "from sklearn.linear_model import Lasso\n",
    "from sklearn.naive_bayes import GaussianNB"
   ]
  },
  {
   "cell_type": "code",
   "execution_count": 5,
   "id": "ca52da94-4980-4d03-b31a-b64ad7f62eb0",
   "metadata": {},
   "outputs": [],
   "source": [
    "df_salary = pd.read_csv(os.path.join(dirname, '../data/nhl_player_yearly_salaries.csv'), index_col=0)"
   ]
  },
  {
   "cell_type": "code",
   "execution_count": 6,
   "id": "f4bf4fd9-c710-4874-843d-6f9fe064dc66",
   "metadata": {},
   "outputs": [],
   "source": [
    "df_stats = pd.read_csv(os.path.join(dirname, '../data/full_nhl_player_yearly_stats.csv'), index_col=0)"
   ]
  },
  {
   "cell_type": "code",
   "execution_count": 7,
   "id": "61e16b69-9a95-41f3-974f-e34ae171d7dd",
   "metadata": {},
   "outputs": [],
   "source": [
    "df_inflation = pd.read_csv(os.path.join(dirname, '../data/USA_inflation_macrotrends.net.csv'))"
   ]
  },
  {
   "cell_type": "code",
   "execution_count": 8,
   "id": "765c9e43-38e3-4b61-be72-099927b109a3",
   "metadata": {},
   "outputs": [],
   "source": [
    "df = data_processing_functions.preprocessing_pipeline(df_stats, df_salary)"
   ]
  },
  {
   "cell_type": "code",
   "execution_count": 9,
   "id": "b8fe67ab-178c-418e-88e0-12636b373df6",
   "metadata": {},
   "outputs": [
    {
     "data": {
      "text/html": [
       "<div>\n",
       "<style scoped>\n",
       "    .dataframe tbody tr th:only-of-type {\n",
       "        vertical-align: middle;\n",
       "    }\n",
       "\n",
       "    .dataframe tbody tr th {\n",
       "        vertical-align: top;\n",
       "    }\n",
       "\n",
       "    .dataframe thead th {\n",
       "        text-align: right;\n",
       "    }\n",
       "</style>\n",
       "<table border=\"1\" class=\"dataframe\">\n",
       "  <thead>\n",
       "    <tr style=\"text-align: right;\">\n",
       "      <th></th>\n",
       "      <th>year</th>\n",
       "      <th>inflation_rate</th>\n",
       "      <th>relative_inflation</th>\n",
       "    </tr>\n",
       "  </thead>\n",
       "  <tbody>\n",
       "    <tr>\n",
       "      <th>0</th>\n",
       "      <td>1961</td>\n",
       "      <td>1.4580</td>\n",
       "      <td>1.000000</td>\n",
       "    </tr>\n",
       "    <tr>\n",
       "      <th>1</th>\n",
       "      <td>1962</td>\n",
       "      <td>1.0707</td>\n",
       "      <td>1.010707</td>\n",
       "    </tr>\n",
       "    <tr>\n",
       "      <th>2</th>\n",
       "      <td>1963</td>\n",
       "      <td>1.1988</td>\n",
       "      <td>1.022823</td>\n",
       "    </tr>\n",
       "    <tr>\n",
       "      <th>3</th>\n",
       "      <td>1964</td>\n",
       "      <td>1.2397</td>\n",
       "      <td>1.035503</td>\n",
       "    </tr>\n",
       "    <tr>\n",
       "      <th>4</th>\n",
       "      <td>1965</td>\n",
       "      <td>1.2789</td>\n",
       "      <td>1.048746</td>\n",
       "    </tr>\n",
       "    <tr>\n",
       "      <th>...</th>\n",
       "      <td>...</td>\n",
       "      <td>...</td>\n",
       "      <td>...</td>\n",
       "    </tr>\n",
       "    <tr>\n",
       "      <th>56</th>\n",
       "      <td>2017</td>\n",
       "      <td>1.2616</td>\n",
       "      <td>8.115196</td>\n",
       "    </tr>\n",
       "    <tr>\n",
       "      <th>57</th>\n",
       "      <td>2018</td>\n",
       "      <td>2.1301</td>\n",
       "      <td>8.288058</td>\n",
       "    </tr>\n",
       "    <tr>\n",
       "      <th>58</th>\n",
       "      <td>2019</td>\n",
       "      <td>2.4426</td>\n",
       "      <td>8.490502</td>\n",
       "    </tr>\n",
       "    <tr>\n",
       "      <th>59</th>\n",
       "      <td>2020</td>\n",
       "      <td>1.8122</td>\n",
       "      <td>8.644366</td>\n",
       "    </tr>\n",
       "    <tr>\n",
       "      <th>60</th>\n",
       "      <td>2021</td>\n",
       "      <td>1.2336</td>\n",
       "      <td>8.751003</td>\n",
       "    </tr>\n",
       "  </tbody>\n",
       "</table>\n",
       "<p>61 rows × 3 columns</p>\n",
       "</div>"
      ],
      "text/plain": [
       "    year  inflation_rate  relative_inflation\n",
       "0   1961          1.4580            1.000000\n",
       "1   1962          1.0707            1.010707\n",
       "2   1963          1.1988            1.022823\n",
       "3   1964          1.2397            1.035503\n",
       "4   1965          1.2789            1.048746\n",
       "..   ...             ...                 ...\n",
       "56  2017          1.2616            8.115196\n",
       "57  2018          2.1301            8.288058\n",
       "58  2019          2.4426            8.490502\n",
       "59  2020          1.8122            8.644366\n",
       "60  2021          1.2336            8.751003\n",
       "\n",
       "[61 rows x 3 columns]"
      ]
     },
     "execution_count": 9,
     "metadata": {},
     "output_type": "execute_result"
    }
   ],
   "source": [
    "df_inflation"
   ]
  },
  {
   "cell_type": "code",
   "execution_count": 10,
   "id": "31cd07e8-50fa-44f2-b713-7b7464615e77",
   "metadata": {},
   "outputs": [],
   "source": [
    "df_inflation = df_inflation.tail(16).reset_index(drop = True)"
   ]
  },
  {
   "cell_type": "code",
   "execution_count": 11,
   "id": "eddbd879-46a1-4146-83f0-cc5bc13d55be",
   "metadata": {},
   "outputs": [],
   "source": [
    "df_inflation.relative_inflation = df_inflation.relative_inflation/df_inflation.loc[0, 'relative_inflation']"
   ]
  },
  {
   "cell_type": "code",
   "execution_count": 12,
   "id": "94e2264d-fe63-493c-be3c-dc59590cbed0",
   "metadata": {},
   "outputs": [],
   "source": [
    "df_inflation = df_inflation[['year', 'relative_inflation']]"
   ]
  },
  {
   "cell_type": "code",
   "execution_count": 13,
   "id": "57cc3c91-2cfe-4579-b3f2-e3340a94b483",
   "metadata": {},
   "outputs": [],
   "source": [
    "df_inflation.columns = ['season', 'rel_inflation']"
   ]
  },
  {
   "cell_type": "code",
   "execution_count": 14,
   "id": "57e942e2-0541-47ba-8612-912b46acf953",
   "metadata": {},
   "outputs": [],
   "source": [
    "df = df.merge(df_inflation, on = 'season')"
   ]
  },
  {
   "cell_type": "code",
   "execution_count": 15,
   "id": "cf716fbd-ae9f-4314-8268-32007adab6a4",
   "metadata": {},
   "outputs": [],
   "source": [
    "df_salary = df[df['contract_year'] == 1].reset_index(drop = True)"
   ]
  },
  {
   "cell_type": "code",
   "execution_count": 16,
   "id": "39f86965-cd56-4a17-a832-5fdcd75e696a",
   "metadata": {},
   "outputs": [],
   "source": [
    "low_scorer_list = []\n",
    "for i in range(len(df_salary)):\n",
    "    if (\n",
    "        df_salary.loc[i, 'games_played'] < 26\n",
    "        and (\n",
    "            df_salary.loc[i, 'goals_created_per_60_minutes'] == 0\n",
    "#         or df_salary.loc[i, 'goals_per_60_minutes'] == 0\n",
    "#         or df_salary.loc[i, 'assists_per_60_minutes'] == 0\n",
    "        )\n",
    "       ):\n",
    "        low_scorer_list.append(i)\n",
    "df_salary = df_salary.drop(low_scorer_list).reset_index(drop = True)"
   ]
  },
  {
   "cell_type": "code",
   "execution_count": 693,
   "id": "8e58455e-f5d5-498e-8e59-756734d63204",
   "metadata": {},
   "outputs": [],
   "source": [
    "# df_salary.AAV /= df_salary.rel_inflation"
   ]
  },
  {
   "cell_type": "code",
   "execution_count": 694,
   "id": "0fa6d7f2-bd0b-4130-8dae-230c767101fc",
   "metadata": {},
   "outputs": [
    {
     "data": {
      "text/plain": [
       "Index(['season', 'first_name', 'last_name', 'player_code', 'age',\n",
       "       'team_abbreviation', 'games_played', 'time_on_ice',\n",
       "       'goals_per_60_minutes', 'goals_created_per_60_minutes',\n",
       "       'assists_per_60_minutes', 'goals_per_60_minutes_1_seasons_ago',\n",
       "       'goals_created_per_60_minutes_1_seasons_ago',\n",
       "       'assists_per_60_minutes_1_seasons_ago',\n",
       "       'goals_per_60_minutes_2_seasons_ago',\n",
       "       'goals_created_per_60_minutes_2_seasons_ago',\n",
       "       'assists_per_60_minutes_2_seasons_ago', 'AAV', 'contract_year',\n",
       "       'rel_inflation'],\n",
       "      dtype='object')"
      ]
     },
     "execution_count": 694,
     "metadata": {},
     "output_type": "execute_result"
    }
   ],
   "source": [
    "df_salary.columns"
   ]
  },
  {
   "cell_type": "code",
   "execution_count": 21,
   "id": "de808694-f685-4406-af23-76d876a73e78",
   "metadata": {},
   "outputs": [
    {
     "data": {
      "text/plain": [
       "<AxesSubplot:>"
      ]
     },
     "execution_count": 21,
     "metadata": {},
     "output_type": "execute_result"
    },
    {
     "data": {
      "image/png": "[encoded data removed]",
      "text/plain": [
       "<Figure size 432x288 with 1 Axes>"
      ]
     },
     "metadata": {
      "needs_background": "light"
     },
     "output_type": "display_data"
    }
   ],
   "source": [
    "df_salary.AAV.hist(bins = 100)"
   ]
  },
  {
   "cell_type": "code",
   "execution_count": 18,
   "id": "682bfd6b-0bcc-470d-80be-e8c55c9f63c2",
   "metadata": {},
   "outputs": [],
   "source": [
    "df_salary_1_5 = df_salary[df_salary.AAV <= 1.5]\n",
    "df_salary_4_25 = df_salary[(df_salary.AAV > 1.5) & (df_salary.AAV <= 4.25)]\n",
    "df_salary_12_5 = df_salary[df_salary.AAV > 4.25]"
   ]
  },
  {
   "cell_type": "code",
   "execution_count": 19,
   "id": "71ab1263-8cea-4dbc-899f-7efa1282352b",
   "metadata": {},
   "outputs": [
    {
     "name": "stdout",
     "output_type": "stream",
     "text": [
      "(993, 20) (559, 20) (308, 20)\n"
     ]
    }
   ],
   "source": [
    "print(df_salary_1_5.shape, df_salary_4_25.shape, df_salary_12_5.shape)"
   ]
  },
  {
   "cell_type": "code",
   "execution_count": 20,
   "id": "e81189fc-2e05-403f-9a7f-144db0efa4bd",
   "metadata": {},
   "outputs": [],
   "source": [
    "df_salary = pd.concat([\n",
    "    df_salary_1_5,\n",
    "    df_salary_4_25,\n",
    "    df_salary_4_25,\n",
    "    df_salary_4_25,\n",
    "    df_salary_12_5,\n",
    "    df_salary_12_5,\n",
    "    df_salary_12_5,\n",
    "    df_salary_12_5,\n",
    "    df_salary_12_5,\n",
    "])"
   ]
  },
  {
   "cell_type": "code",
   "execution_count": 699,
   "id": "f81b84bb-491a-4b52-9218-0586e6414de1",
   "metadata": {},
   "outputs": [
    {
     "data": {
      "text/plain": [
       "6.25"
      ]
     },
     "execution_count": 699,
     "metadata": {},
     "output_type": "execute_result"
    }
   ],
   "source": [
    "df_salary.AAV.quantile(q = 0.875)"
   ]
  },
  {
   "cell_type": "code",
   "execution_count": 22,
   "id": "93c128a2-928e-4feb-9b4b-7d856416985d",
   "metadata": {},
   "outputs": [],
   "source": [
    "feature_list = [\n",
    "    'season',\n",
    "    'age',\n",
    "    'goals_created_per_60_minutes',\n",
    "#     'goals_per_60_minutes',\n",
    "#     'assists_per_60_minutes',\n",
    "    'rel_inflation',\n",
    "    'goals_created_per_60_minutes_1_seasons_ago',\n",
    "    'goals_per_60_minutes_1_seasons_ago',\n",
    "    'assists_per_60_minutes_1_seasons_ago',\n",
    "    'goals_created_per_60_minutes_2_seasons_ago',\n",
    "    'goals_per_60_minutes_2_seasons_ago',\n",
    "    'assists_per_60_minutes_2_seasons_ago',\n",
    "]"
   ]
  },
  {
   "cell_type": "code",
   "execution_count": 23,
   "id": "014d4100-473f-4f12-83be-fd47e2c8a303",
   "metadata": {},
   "outputs": [],
   "source": [
    "X = df_salary[feature_list].to_numpy()\n",
    "y = df_salary.AAV.to_numpy()\n",
    "X_train, X_test, y_train, y_test = train_test_split(X, y, train_size = 0.8, random_state=99)"
   ]
  },
  {
   "cell_type": "code",
   "execution_count": 24,
   "id": "f689b940-1b1b-41a1-8574-a033c93153c4",
   "metadata": {},
   "outputs": [
    {
     "data": {
      "text/plain": [
       "(4210, 10)"
      ]
     },
     "execution_count": 24,
     "metadata": {},
     "output_type": "execute_result"
    }
   ],
   "source": [
    "X.shape"
   ]
  },
  {
   "cell_type": "code",
   "execution_count": 172,
   "id": "689e256d-2991-4010-a79e-8273bf005083",
   "metadata": {},
   "outputs": [],
   "source": [
    "param_grid = {'kernel': ['poly'],\n",
    "            'degree': [2,3,5],\n",
    "            'tol': [0.001, 0.01, 0.1],\n",
    "            'C': [0.1, 1.0, 10]}"
   ]
  },
  {
   "cell_type": "code",
   "execution_count": 173,
   "id": "ce72a8e8-87c8-4ebb-b694-bee2681c7e70",
   "metadata": {},
   "outputs": [],
   "source": [
    "gs = GridSearchCV(estimator=SVR(), param_grid=param_grid)"
   ]
  },
  {
   "cell_type": "code",
   "execution_count": 174,
   "id": "c241d05c-63a6-40d3-9190-6d31196995a2",
   "metadata": {},
   "outputs": [
    {
     "data": {
      "text/plain": [
       "GridSearchCV(estimator=SVR(),\n",
       "             param_grid={'C': [0.1, 1.0, 10], 'degree': [2, 3, 5],\n",
       "                         'kernel': ['poly'], 'tol': [0.001, 0.01, 0.1]})"
      ]
     },
     "execution_count": 174,
     "metadata": {},
     "output_type": "execute_result"
    }
   ],
   "source": [
    "# gs.fit(X_train, y_train)"
   ]
  },
  {
   "cell_type": "code",
   "execution_count": 164,
   "id": "1f0f2a31-2e5d-4f67-99c1-d5d3f2e491bc",
   "metadata": {},
   "outputs": [],
   "source": [
    "svm_reg = SVR()"
   ]
  },
  {
   "cell_type": "code",
   "execution_count": 175,
   "id": "f61fd7d0-a6bf-4434-bb84-cb9707d5696c",
   "metadata": {},
   "outputs": [
    {
     "data": {
      "text/plain": [
       "{'C': 10, 'degree': 2, 'kernel': 'poly', 'tol': 0.1}"
      ]
     },
     "execution_count": 175,
     "metadata": {},
     "output_type": "execute_result"
    }
   ],
   "source": [
    "gs.best_params_"
   ]
  },
  {
   "cell_type": "code",
   "execution_count": 176,
   "id": "f0cc9249-2db9-4c63-a1cb-d3e1b2f8b807",
   "metadata": {},
   "outputs": [],
   "source": [
    "y_hat = gs.predict(X_test)"
   ]
  },
  {
   "cell_type": "code",
   "execution_count": 177,
   "id": "d5c86257-256c-4018-b6e7-43e714b07798",
   "metadata": {},
   "outputs": [
    {
     "data": {
      "text/plain": [
       "3.3879347692989428"
      ]
     },
     "execution_count": 177,
     "metadata": {},
     "output_type": "execute_result"
    }
   ],
   "source": [
    "sklearn.metrics.mean_squared_error(y_test, y_hat)"
   ]
  },
  {
   "cell_type": "code",
   "execution_count": 716,
   "id": "3c4764ed-0f60-4ba5-b6ae-136dfea9f921",
   "metadata": {},
   "outputs": [
    {
     "data": {
      "text/plain": [
       "GridSearchCV(estimator=XGBRegressor(base_score=None, booster=None,\n",
       "                                    colsample_bylevel=None,\n",
       "                                    colsample_bynode=None,\n",
       "                                    colsample_bytree=None,\n",
       "                                    enable_categorical=False, gamma=None,\n",
       "                                    gpu_id=None, importance_type=None,\n",
       "                                    interaction_constraints=None,\n",
       "                                    learning_rate=None, max_delta_step=None,\n",
       "                                    max_depth=None, min_child_weight=None,\n",
       "                                    missing=nan, monotone_constraints=None,\n",
       "                                    n_estimators=100, n_jobs=None,\n",
       "                                    num_parallel_tree=None, predictor=None,\n",
       "                                    random_state=None, reg_alpha=None,\n",
       "                                    reg_lambda=None, scale_pos_weight=None,\n",
       "                                    subsample=None, tree_method=None,\n",
       "                                    validate_parameters=None, verbosity=None),\n",
       "             param_grid={'max_depth': [2, 3, 4], 'n_estimators': [25, 50, 100]})"
      ]
     },
     "execution_count": 716,
     "metadata": {},
     "output_type": "execute_result"
    }
   ],
   "source": [
    "param_grid_xgb = {'n_estimators': [25, 50, 100], 'max_depth': [2,3,4]}\n",
    "gs_xgb = GridSearchCV(xgb.XGBRegressor(), param_grid=param_grid_xgb)\n",
    "gs_xgb.fit(X_train, y_train)"
   ]
  },
  {
   "cell_type": "code",
   "execution_count": 717,
   "id": "6b285a5b-bd27-449a-993c-f44a64fa0787",
   "metadata": {},
   "outputs": [
    {
     "data": {
      "text/plain": [
       "{'max_depth': 4, 'n_estimators': 100}"
      ]
     },
     "execution_count": 717,
     "metadata": {},
     "output_type": "execute_result"
    }
   ],
   "source": [
    "gs_xgb.best_params_"
   ]
  },
  {
   "cell_type": "code",
   "execution_count": 718,
   "id": "bb08f97e-a9b3-42ba-9019-a8cb196c2d9d",
   "metadata": {},
   "outputs": [],
   "source": [
    "y_hat_xgb = gs_xgb.predict(X_test)"
   ]
  },
  {
   "cell_type": "code",
   "execution_count": 719,
   "id": "bf9b38c4-973e-4d08-93e8-ee0f392237a5",
   "metadata": {},
   "outputs": [
    {
     "data": {
      "text/plain": [
       "0.5591164872112672"
      ]
     },
     "execution_count": 719,
     "metadata": {},
     "output_type": "execute_result"
    }
   ],
   "source": [
    "sklearn.metrics.mean_squared_error(y_test, y_hat_xgb)"
   ]
  },
  {
   "cell_type": "code",
   "execution_count": 25,
   "id": "27d7d412-f176-4da1-ac68-65cdd0c30026",
   "metadata": {},
   "outputs": [
    {
     "data": {
      "text/plain": [
       "GridSearchCV(estimator=RandomForestRegressor(),\n",
       "             param_grid={'min_samples_split': [2, 3, 4],\n",
       "                         'n_estimators': [25, 50, 100], 'random_state': [99]})"
      ]
     },
     "execution_count": 25,
     "metadata": {},
     "output_type": "execute_result"
    }
   ],
   "source": [
    "param_grid_rf = {'n_estimators':[25, 50, 100,],\n",
    "    'min_samples_split':[2,3, 4],\n",
    "    'random_state': [99]}\n",
    "gs_rf = GridSearchCV(RandomForestRegressor(), param_grid=param_grid_rf)\n",
    "gs_rf.fit(X_train, y_train)"
   ]
  },
  {
   "cell_type": "code",
   "execution_count": 26,
   "id": "4db608da-a921-469f-a73b-41cada6fbdca",
   "metadata": {},
   "outputs": [
    {
     "data": {
      "text/plain": [
       "{'min_samples_split': 2, 'n_estimators': 100, 'random_state': 99}"
      ]
     },
     "execution_count": 26,
     "metadata": {},
     "output_type": "execute_result"
    }
   ],
   "source": [
    "gs_rf.best_params_"
   ]
  },
  {
   "cell_type": "code",
   "execution_count": 27,
   "id": "bbf0c512-5d03-4863-8739-1679875bf775",
   "metadata": {},
   "outputs": [],
   "source": [
    "y_hat_rf = gs_rf.predict(X_test)"
   ]
  },
  {
   "cell_type": "code",
   "execution_count": 28,
   "id": "58868d9e-37ae-4bc2-bf74-8e870154783e",
   "metadata": {},
   "outputs": [
    {
     "data": {
      "text/plain": [
       "0.29860618018347096"
      ]
     },
     "execution_count": 28,
     "metadata": {},
     "output_type": "execute_result"
    }
   ],
   "source": [
    "sklearn.metrics.mean_squared_error(y_test, y_hat_rf)"
   ]
  },
  {
   "cell_type": "code",
   "execution_count": 32,
   "id": "abe50936-3aa7-4314-b080-08761804a8dd",
   "metadata": {},
   "outputs": [],
   "source": [
    "# pickle_filename = 'salary_ML_model.pickle'\n",
    "# pickle_path = os.path.join(dirname, '../outputs/')\n",
    "# pickle.dump(gs_rf, open(pickle_path + pickle_filename, 'wb'))"
   ]
  },
  {
   "cell_type": "code",
   "execution_count": 416,
   "id": "32eedac5-1e92-4e5b-b527-c4c7229e4a2d",
   "metadata": {},
   "outputs": [
    {
     "data": {
      "text/plain": [
       "GridSearchCV(estimator=Lasso(), param_grid={'alpha': [0.1, 1.0, 10]})"
      ]
     },
     "execution_count": 416,
     "metadata": {},
     "output_type": "execute_result"
    }
   ],
   "source": [
    "param_grid_lasso = {'alpha':[0.1, 1.0, 10]}\n",
    "gs_lasso = GridSearchCV(Lasso(), param_grid= param_grid_lasso)\n",
    "gs_lasso.fit(X_train, y_train)"
   ]
  },
  {
   "cell_type": "code",
   "execution_count": 417,
   "id": "42df763e-54db-4d8d-89f8-152d98f2fc29",
   "metadata": {},
   "outputs": [],
   "source": [
    "y_hat_lasso = gs_lasso.predict(X_test)"
   ]
  },
  {
   "cell_type": "code",
   "execution_count": 418,
   "id": "d7c2a284-d4dc-407a-a6ec-dc706b81aa1c",
   "metadata": {},
   "outputs": [
    {
     "data": {
      "text/plain": [
       "1.948908575788692"
      ]
     },
     "execution_count": 418,
     "metadata": {},
     "output_type": "execute_result"
    }
   ],
   "source": [
    "sklearn.metrics.mean_squared_error(y_test, y_hat_lasso)"
   ]
  },
  {
   "cell_type": "code",
   "execution_count": 387,
   "id": "4efb1795-dbc6-42a9-8d78-8a43d4e8e08b",
   "metadata": {},
   "outputs": [],
   "source": [
    "from tensorflow.keras import models\n",
    "from tensorflow.keras import layers\n",
    "from tensorflow.keras.wrappers.scikit_learn import KerasRegressor\n",
    "import keras.metrics"
   ]
  },
  {
   "cell_type": "code",
   "execution_count": 258,
   "id": "79a8224a-ccf4-4a0b-ac51-4fe907889d7c",
   "metadata": {},
   "outputs": [],
   "source": [
    "# def network():\n",
    "network = models.Sequential()\n",
    "network.add(layers.Dense(27, activation='relu', input_shape=(3,)))\n",
    "network.add(layers.Dense(27, activation='relu'))\n",
    "network.add(layers.Dense(1, activation='relu'))\n",
    "network.compile(optimizer='adam',\n",
    "                loss='mse',\n",
    "                metrics=[keras.metrics.RootMeanSquaredError()])\n",
    "#     return network\n",
    "\n",
    "# estimator = KerasRegressor(build_fn = network, batch_size = 50, epochs = 100)\n",
    "# cv_results = cross_validate(estimator, X, y, cv = 5, scoring=('r2', 'neg_mean_squared_error'), return_train_score=True)\n",
    "network.fit(X_train, y_train, batch_size = 25, epochs = 100)"
   ]
  },
  {
   "cell_type": "code",
   "execution_count": 259,
   "id": "836bc666-f61f-4547-87d8-77157529a30a",
   "metadata": {},
   "outputs": [
    {
     "name": "stdout",
     "output_type": "stream",
     "text": [
      "12/12 [==============================] - 0s 1ms/step - loss: 3.2220 - root_mean_squared_error: 1.7950\n",
      "test_acc: 1.7949984073638916 test_loss [3.2220191955566406, 1.7949984073638916]\n"
     ]
    }
   ],
   "source": [
    "test_loss = network.evaluate(X_test, y_test)\n",
    "print('test_acc:', test_acc, 'test_loss', test_loss)"
   ]
  }
 ],
 "metadata": {
  "kernelspec": {
   "display_name": "NHL_env",
   "language": "python",
   "name": "nhl_env"
  },
  "language_info": {
   "codemirror_mode": {
    "name": "ipython",
    "version": 3
   },
   "file_extension": ".py",
   "mimetype": "text/x-python",
   "name": "python",
   "nbconvert_exporter": "python",
   "pygments_lexer": "ipython3",
   "version": "3.10.2"
  }
 },
 "nbformat": 4,
 "nbformat_minor": 5
}
